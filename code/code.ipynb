{
 "cells": [
  {
   "cell_type": "markdown",
   "metadata": {},
   "source": [
    "#### Stratified 5X2 cross validation for selected 15 review studies from the TREC 2004 dataset"
   ]
  },
  {
   "cell_type": "code",
   "execution_count": 29,
   "metadata": {
    "collapsed": false
   },
   "outputs": [
    {
     "name": "stdout",
     "output_type": "stream",
     "text": [
      "Required Libraries loaded.\n"
     ]
    }
   ],
   "source": [
    "#import required library packages\n",
    "\n",
    "import scipy\n",
    "import numpy as np\n",
    "import pandas as pd\n",
    "from sklearn import metrics, preprocessing\n",
    "from sklearn.metrics import classification_report, confusion_matrix, precision_score, recall_score, f1_score\n",
    "from scipy.stats.distributions import randint\n",
    "from sklearn.cross_validation import StratifiedKFold\n",
    "from sklearn.svm import SVC\n",
    "from sklearn.linear_model import Perceptron\n",
    "#from sklearn.utils import shuffle\n",
    "\n",
    "print (\"Required Libraries loaded.\")"
   ]
  },
  {
   "cell_type": "code",
   "execution_count": 45,
   "metadata": {
    "collapsed": false
   },
   "outputs": [
    {
     "data": {
      "text/html": [
       "<div>\n",
       "<table border=\"1\" class=\"dataframe\">\n",
       "  <thead>\n",
       "    <tr style=\"text-align: right;\">\n",
       "      <th></th>\n",
       "      <th>PMID</th>\n",
       "      <th>Label</th>\n",
       "      <th>ace</th>\n",
       "      <th>activity</th>\n",
       "      <th>acute</th>\n",
       "      <th>admission</th>\n",
       "      <th>allocated</th>\n",
       "      <th>ami</th>\n",
       "      <th>angina</th>\n",
       "      <th>angiotensinconverting</th>\n",
       "      <th>...</th>\n",
       "      <th>treatment</th>\n",
       "      <th>trend</th>\n",
       "      <th>trial</th>\n",
       "      <th>ventricular</th>\n",
       "      <th>versus</th>\n",
       "      <th>volume</th>\n",
       "      <th>within</th>\n",
       "      <th>year</th>\n",
       "      <th>years</th>\n",
       "      <th>york</th>\n",
       "    </tr>\n",
       "  </thead>\n",
       "  <tbody>\n",
       "    <tr>\n",
       "      <th>0</th>\n",
       "      <td>7504126</td>\n",
       "      <td>E</td>\n",
       "      <td>0</td>\n",
       "      <td>0</td>\n",
       "      <td>0</td>\n",
       "      <td>0</td>\n",
       "      <td>0</td>\n",
       "      <td>0</td>\n",
       "      <td>0</td>\n",
       "      <td>1</td>\n",
       "      <td>...</td>\n",
       "      <td>0</td>\n",
       "      <td>0</td>\n",
       "      <td>0</td>\n",
       "      <td>0</td>\n",
       "      <td>0</td>\n",
       "      <td>0</td>\n",
       "      <td>0</td>\n",
       "      <td>0</td>\n",
       "      <td>0</td>\n",
       "      <td>0</td>\n",
       "    </tr>\n",
       "    <tr>\n",
       "      <th>1</th>\n",
       "      <td>8247194</td>\n",
       "      <td>E</td>\n",
       "      <td>0</td>\n",
       "      <td>0</td>\n",
       "      <td>0</td>\n",
       "      <td>0</td>\n",
       "      <td>0</td>\n",
       "      <td>0</td>\n",
       "      <td>0</td>\n",
       "      <td>0</td>\n",
       "      <td>...</td>\n",
       "      <td>1</td>\n",
       "      <td>0</td>\n",
       "      <td>0</td>\n",
       "      <td>0</td>\n",
       "      <td>0</td>\n",
       "      <td>0</td>\n",
       "      <td>0</td>\n",
       "      <td>0</td>\n",
       "      <td>0</td>\n",
       "      <td>0</td>\n",
       "    </tr>\n",
       "    <tr>\n",
       "      <th>2</th>\n",
       "      <td>8247909</td>\n",
       "      <td>E</td>\n",
       "      <td>1</td>\n",
       "      <td>0</td>\n",
       "      <td>1</td>\n",
       "      <td>0</td>\n",
       "      <td>0</td>\n",
       "      <td>0</td>\n",
       "      <td>0</td>\n",
       "      <td>1</td>\n",
       "      <td>...</td>\n",
       "      <td>1</td>\n",
       "      <td>0</td>\n",
       "      <td>0</td>\n",
       "      <td>0</td>\n",
       "      <td>0</td>\n",
       "      <td>0</td>\n",
       "      <td>0</td>\n",
       "      <td>0</td>\n",
       "      <td>0</td>\n",
       "      <td>0</td>\n",
       "    </tr>\n",
       "    <tr>\n",
       "      <th>3</th>\n",
       "      <td>8249842</td>\n",
       "      <td>E</td>\n",
       "      <td>0</td>\n",
       "      <td>0</td>\n",
       "      <td>0</td>\n",
       "      <td>0</td>\n",
       "      <td>0</td>\n",
       "      <td>0</td>\n",
       "      <td>0</td>\n",
       "      <td>0</td>\n",
       "      <td>...</td>\n",
       "      <td>1</td>\n",
       "      <td>0</td>\n",
       "      <td>1</td>\n",
       "      <td>0</td>\n",
       "      <td>0</td>\n",
       "      <td>0</td>\n",
       "      <td>0</td>\n",
       "      <td>0</td>\n",
       "      <td>0</td>\n",
       "      <td>0</td>\n",
       "    </tr>\n",
       "    <tr>\n",
       "      <th>4</th>\n",
       "      <td>8252860</td>\n",
       "      <td>E</td>\n",
       "      <td>0</td>\n",
       "      <td>0</td>\n",
       "      <td>0</td>\n",
       "      <td>0</td>\n",
       "      <td>0</td>\n",
       "      <td>0</td>\n",
       "      <td>0</td>\n",
       "      <td>0</td>\n",
       "      <td>...</td>\n",
       "      <td>1</td>\n",
       "      <td>0</td>\n",
       "      <td>0</td>\n",
       "      <td>0</td>\n",
       "      <td>0</td>\n",
       "      <td>0</td>\n",
       "      <td>0</td>\n",
       "      <td>0</td>\n",
       "      <td>0</td>\n",
       "      <td>0</td>\n",
       "    </tr>\n",
       "  </tbody>\n",
       "</table>\n",
       "<p>5 rows × 212 columns</p>\n",
       "</div>"
      ],
      "text/plain": [
       "      PMID Label  ace  activity  acute  admission  allocated  ami  angina  \\\n",
       "0  7504126     E    0         0      0          0          0    0       0   \n",
       "1  8247194     E    0         0      0          0          0    0       0   \n",
       "2  8247909     E    1         0      1          0          0    0       0   \n",
       "3  8249842     E    0         0      0          0          0    0       0   \n",
       "4  8252860     E    0         0      0          0          0    0       0   \n",
       "\n",
       "   angiotensinconverting  ...   treatment  trend  trial  ventricular  versus  \\\n",
       "0                      1  ...           0      0      0            0       0   \n",
       "1                      0  ...           1      0      0            0       0   \n",
       "2                      1  ...           1      0      0            0       0   \n",
       "3                      0  ...           1      0      1            0       0   \n",
       "4                      0  ...           1      0      0            0       0   \n",
       "\n",
       "   volume  within  year  years  york  \n",
       "0       0       0     0      0     0  \n",
       "1       0       0     0      0     0  \n",
       "2       0       0     0      0     0  \n",
       "3       0       0     0      0     0  \n",
       "4       0       0     0      0     0  \n",
       "\n",
       "[5 rows x 212 columns]"
      ]
     },
     "execution_count": 45,
     "metadata": {},
     "output_type": "execute_result"
    }
   ],
   "source": [
    "# Import the data and explore the first few rows\n",
    "# Import the data and explore the first few rows\n",
    "\n",
    "#load the dataset and stor in variable e.g. 'data_holder'\n",
    "inhibitor  = #pd.read_csv(\"data\\location\\file.csv\", sep=\",\")\n",
    "#inhibitor = shuffle(inhibitor, random_state = 33)\n",
    "header = inhibitor.columns.values\n",
    "inhibitor.head()"
   ]
  },
  {
   "cell_type": "code",
   "execution_count": 44,
   "metadata": {
    "collapsed": false
   },
   "outputs": [
    {
     "name": "stdout",
     "output_type": "stream",
     "text": [
      "(2498L, 212L)\n"
     ]
    }
   ],
   "source": [
    "# Convert to numpy array and check the dimensionality\n",
    "npArray = np.array(inhibitor)\n",
    "print(npArray.shape)"
   ]
  },
  {
   "cell_type": "markdown",
   "metadata": {},
   "source": [
    "#### Split the data into input features, X, and outputs, y"
   ]
  },
  {
   "cell_type": "code",
   "execution_count": 32,
   "metadata": {
    "collapsed": false
   },
   "outputs": [
    {
     "name": "stdout",
     "output_type": "stream",
     "text": [
      "[[   0 2320]\n",
      " [   1  178]]\n"
     ]
    }
   ],
   "source": [
    "# Split to input matrix X and class vector y\n",
    "X = npArray[:,2:].astype(float)\n",
    "y = npArray[:,1]\n",
    "\n",
    "# Convert the categorical label to numeric values, and print the y frequencies\n",
    "le = preprocessing.LabelEncoder()\n",
    "y  = le.fit_transform(y)  #\"E\" = 0. \"I\" = 1\n",
    "\n",
    "yFreq = scipy.stats.itemfreq(y)\n",
    "print(yFreq)"
   ]
  },
  {
   "cell_type": "code",
   "execution_count": 33,
   "metadata": {
    "collapsed": false
   },
   "outputs": [],
   "source": [
    "#function to set sample weight\n",
    "def func(x):\n",
    "    x = np.where(x==0, 1, 4)\n",
    "    return x"
   ]
  },
  {
   "cell_type": "code",
   "execution_count": 34,
   "metadata": {
    "collapsed": false
   },
   "outputs": [
    {
     "name": "stdout",
     "output_type": "stream",
     "text": [
      "[0.41999999999999998, 0.39884393063583817, 0.41999999999999998, 0.39884393063583817, 0.41999999999999998, 0.39884393063583817, 0.41999999999999998, 0.39884393063583817, 0.41999999999999998, 0.39884393063583817]\n",
      "SVM Cross validation results: \n",
      "           SVM \n",
      "Precision: 0.41 \n",
      "   Recall: 0.74 \n",
      "       F1: 0.53 \n"
     ]
    }
   ],
   "source": [
    "#SVM classifier using 5X2 CV \n",
    "\n",
    "svm_clf = SVC(C=1.0, cache_size=200, class_weight='balanced', coef0=0.0,decision_function_shape=None, degree=3, \n",
    "              gamma='auto', kernel='rbf',max_iter=-1, probability=False, random_state=None, shrinking=True,\n",
    "              tol=0.001, verbose=False)\n",
    "\n",
    "\n",
    "seed = 67\n",
    "\n",
    "from sklearn.cross_validation import StratifiedKFold\n",
    "\n",
    "\n",
    "svm_precision = []\n",
    "svm_recall = []\n",
    "svm_f = []\n",
    "\n",
    "for i in range(0, 5):\n",
    "    \n",
    "    skf = StratifiedKFold(y, n_folds=2, shuffle=True, random_state=seed)\n",
    "\n",
    "    for train_index, test_index in skf:\n",
    "    \n",
    "        X_train, X_test = X[train_index], X[test_index]\n",
    "        y_train, y_test = y[train_index], y[test_index]\n",
    "        w = func(y_train)\n",
    "        wt = func(y_test)\n",
    "        \n",
    "               \n",
    "        svm_clf.fit(X_train, y_train, sample_weight = w)\n",
    "        svm_pred = svm_clf.predict(X_test)\n",
    "        s_prec = precision_score(y_test, svm_pred, labels=None, pos_label=1, average='binary', sample_weight=wt)\n",
    "        s_recall = recall_score(y_test, svm_pred, labels=None, pos_label=1, average='binary', sample_weight=wt)\n",
    "        s_f1 = f1_score(y_test, svm_pred, labels=None, pos_label=1, average='binary', sample_weight=wt)\n",
    "        \n",
    "        svm_precision.append(s_prec)\n",
    "        svm_recall.append(s_recall)\n",
    "        svm_f.append(s_f1)\n",
    "#print (svm_precision)    \n",
    "        \n",
    "print (\"SVM Cross validation results: \")\n",
    "print (\"           SVM \")\n",
    "print (\"Precision: %.2f \"%(np.mean(svm_precision)))\n",
    "print (\"   Recall: %.2f \" %(np.mean(svm_recall)))\n",
    "print (\"       F1: %.2f \" %(np.mean(svm_f)))"
   ]
  },
  {
   "cell_type": "code",
   "execution_count": 35,
   "metadata": {
    "collapsed": false
   },
   "outputs": [
    {
     "name": "stdout",
     "output_type": "stream",
     "text": [
      "[0.50659630606860162, 0.39267886855241263, 0.50659630606860162, 0.39267886855241263, 0.50659630606860162, 0.39267886855241263, 0.50659630606860162, 0.39267886855241263, 0.50659630606860162, 0.39267886855241263]\n",
      "Perceptron Cross validation results: \n",
      "        Perceptron    \n",
      "Precision: 0.45     \n",
      "   Recall: 0.60     \n",
      "       F1: 0.51     \n"
     ]
    }
   ],
   "source": [
    "#perceptron classifier using 5X2 CV\n",
    "seed = 67\n",
    "p_clf = Perceptron(penalty = 'l1',alpha = 0.001,fit_intercept = True, n_iter = 1, shuffle = True, verbose = 0, \n",
    "                   eta0 = 0.1, n_jobs = 1, random_state = 0, class_weight = 'balanced', warm_start = False)\n",
    "\n",
    "\n",
    "from sklearn.cross_validation import StratifiedKFold\n",
    "\n",
    "\n",
    "p_precision = []\n",
    "p_recall = []\n",
    "p_f = []\n",
    "\n",
    "\n",
    "for i in range(0, 5):\n",
    "   # seed = 21 + i\n",
    "    skf = StratifiedKFold(y, n_folds=2, shuffle=True, random_state=seed)\n",
    "\n",
    "    for train_index, test_index in skf:\n",
    "    \n",
    "        X_train, X_test = X[train_index], X[test_index]\n",
    "        y_train, y_test = y[train_index], y[test_index]\n",
    "        w = func(y_train)\n",
    "        wt = func(y_test)\n",
    "        \n",
    "        p_clf.fit(X_train, y_train, sample_weight = w)\n",
    "        p_pred = p_clf.predict(X_test)\n",
    "        prec = precision_score(y_test, p_pred, labels=None, pos_label=1, average='binary', sample_weight=wt)\n",
    "        recall = recall_score(y_test, p_pred, labels=None, pos_label=1, average='binary', sample_weight=wt)\n",
    "        f1 = f1_score(y_test, p_pred, labels=None, pos_label=1, average='binary', sample_weight=wt)\n",
    "        \n",
    "        p_precision.append(prec)\n",
    "        p_recall.append(recall)\n",
    "        p_f.append(f1)\n",
    "        \n",
    "            \n",
    "#print (p_precision)\n",
    "        \n",
    "print (\"Perceptron Cross validation results: \")\n",
    "print (\"        Perceptron    \")\n",
    "print (\"Precision: %.2f     \" %(np.mean(p_precision)))\n",
    "print (\"   Recall: %.2f     \" %(np.mean(p_recall)))\n",
    "print (\"       F1: %.2f     \" %(np.mean(p_f)))"
   ]
  },
  {
   "cell_type": "code",
   "execution_count": null,
   "metadata": {
    "collapsed": false
   },
   "outputs": [],
   "source": []
  },
  {
   "cell_type": "code",
   "execution_count": null,
   "metadata": {
    "collapsed": true
   },
   "outputs": [],
   "source": []
  }
 ],
 "metadata": {
  "kernelspec": {
   "display_name": "Python 2",
   "language": "python",
   "name": "python2"
  },
  "language_info": {
   "codemirror_mode": {
    "name": "ipython",
    "version": 2
   },
   "file_extension": ".py",
   "mimetype": "text/x-python",
   "name": "python",
   "nbconvert_exporter": "python",
   "pygments_lexer": "ipython2",
   "version": "2.7.11"
  }
 },
 "nbformat": 4,
 "nbformat_minor": 0
}
